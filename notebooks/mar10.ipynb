{
 "cells": [
  {
   "cell_type": "code",
   "execution_count": 1,
   "metadata": {},
   "outputs": [],
   "source": [
    "import pandas as pd\n",
    "import altair as alt\n",
    "import os"
   ]
  },
  {
   "cell_type": "markdown",
   "metadata": {},
   "source": [
    "# Grouping all location whether data\n",
    "Before bringing this into the website, I need to group together all of the weather data by merging the `.csv` while adding columns for location code, city, and state names.\n",
    "\n",
    "## Steps\n",
    "1. Create a code book for file names: `file_path = ['city', 'state']`\n",
    "1. Loop through all `.csv` files adding the `['code','city','state']` columns\n",
    "1. Merge all `.csv` files"
   ]
  },
  {
   "cell_type": "code",
   "execution_count": 4,
   "metadata": {},
   "outputs": [
    {
     "data": {
      "text/html": [
       "<div>\n",
       "<style scoped>\n",
       "    .dataframe tbody tr th:only-of-type {\n",
       "        vertical-align: middle;\n",
       "    }\n",
       "\n",
       "    .dataframe tbody tr th {\n",
       "        vertical-align: top;\n",
       "    }\n",
       "\n",
       "    .dataframe thead th {\n",
       "        text-align: right;\n",
       "    }\n",
       "</style>\n",
       "<table border=\"1\" class=\"dataframe\">\n",
       "  <thead>\n",
       "    <tr style=\"text-align: right;\">\n",
       "      <th></th>\n",
       "      <th>ABR</th>\n",
       "      <th>City</th>\n",
       "      <th>State</th>\n",
       "      <th>Lat</th>\n",
       "      <th>Long</th>\n",
       "    </tr>\n",
       "  </thead>\n",
       "  <tbody>\n",
       "    <tr>\n",
       "      <th>0</th>\n",
       "      <td>KSEA</td>\n",
       "      <td>Seattle</td>\n",
       "      <td>Washington</td>\n",
       "      <td>47.60621</td>\n",
       "      <td>-122.33207</td>\n",
       "    </tr>\n",
       "  </tbody>\n",
       "</table>\n",
       "</div>"
      ],
      "text/plain": [
       "    ABR     City       State       Lat       Long\n",
       "0  KSEA  Seattle  Washington  47.60621 -122.33207"
      ]
     },
     "execution_count": 4,
     "metadata": {},
     "output_type": "execute_result"
    }
   ],
   "source": [
    "codebook = pd.read_csv('../data/cities-gps.csv')\n",
    "curr = 'KSEA'\n",
    "codebook[codebook['ABR'] == curr]"
   ]
  },
  {
   "cell_type": "code",
   "execution_count": 31,
   "metadata": {},
   "outputs": [],
   "source": [
    "fp = '../data/'\n",
    "col = ['city', 'state', 'date', 'actual_min_temp', 'actual_max_temp', 'average_min_temp', 'average_max_temp']\n",
    "df = pd.DataFrame(columns = col)\n",
    "\n",
    "\n",
    "for city in os.listdir(fp):\n",
    "  if (len(city) < 9):\n",
    "\n",
    "    # Importing the city's weather data\n",
    "    curr_df = pd.read_csv(fp+city)\n",
    "\n",
    "    # Extracting the city abbreviation from file name\n",
    "    curr_city = city[:-4]\n",
    "\n",
    "    # Getting location data from the city codebook\n",
    "    curr_codes = codebook[codebook['ABR'] == curr_city]\n",
    "\n",
    "    # Setting location-specific column values\n",
    "    curr_df['city'] = curr_codes['City'].iloc[0]\n",
    "    curr_df['state'] = curr_codes['State'].iloc[0]\n",
    "\n",
    "    # Modifying the df to needed columns\n",
    "    curr_df = curr_df[col]\n",
    "\n",
    "    # Adding current dataframe to overall dataframe\n",
    "    df = pd.concat([df, curr_df], ignore_index=True)\n",
    "\n",
    "\n",
    "df.sample(3)\n",
    "df.to_csv('../data/ALL_CITIES.csv')"
   ]
  },
  {
   "cell_type": "markdown",
   "metadata": {},
   "source": [
    "# Completed\n",
    "So far, all of the different `.csv` files have been merged and the appropriate city names have been included. Next, this dataset will simplify the data by computing the difference between `average` and `actual` temperatures for both min and max temperature."
   ]
  },
  {
   "cell_type": "code",
   "execution_count": 35,
   "metadata": {},
   "outputs": [],
   "source": [
    "df['difference_max_temp'] = df['actual_max_temp'] - df['average_max_temp']\n",
    "df['difference_min_temp'] = df['actual_min_temp'] - df['average_min_temp']\n",
    "df.to_csv('../data/ALL_CITIES.csv')"
   ]
  }
 ],
 "metadata": {
  "kernelspec": {
   "display_name": "Python 3.10.4 64-bit",
   "language": "python",
   "name": "python3"
  },
  "language_info": {
   "codemirror_mode": {
    "name": "ipython",
    "version": 3
   },
   "file_extension": ".py",
   "mimetype": "text/x-python",
   "name": "python",
   "nbconvert_exporter": "python",
   "pygments_lexer": "ipython3",
   "version": "3.10.4"
  },
  "orig_nbformat": 4,
  "vscode": {
   "interpreter": {
    "hash": "aee8b7b246df8f9039afb4144a1f6fd8d2ca17a180786b69acc140d282b71a49"
   }
  }
 },
 "nbformat": 4,
 "nbformat_minor": 2
}
